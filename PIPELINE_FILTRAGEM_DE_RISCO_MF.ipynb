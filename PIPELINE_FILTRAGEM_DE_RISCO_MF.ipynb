{
  "cells": [
    {
      "cell_type": "markdown",
      "metadata": {
        "id": "view-in-github",
        "colab_type": "text"
      },
      "source": [
        "<a href=\"https://colab.research.google.com/github/Thiiagoo777/Mielo1/blob/main/PIPELINE_FILTRAGEM_DE_RISCO_MF.ipynb\" target=\"_parent\"><img src=\"https://colab.research.google.com/assets/colab-badge.svg\" alt=\"Open In Colab\"/></a>"
      ]
    },
    {
      "cell_type": "markdown",
      "metadata": {
        "id": "-sX7Ic9zOtZe"
      },
      "source": [
        "# **PEGASO (Prognóstico por Evidência Genética Somática)**\n",
        "\n",
        "- O propósito deste projeto é identificar e filtrar variantes somáticas associadas a prognósticos desfavoráveis na doença de Mielofibrose.\n",
        "\n",
        "- Foram filtradas 30 amostras do projeto \"LMA Brasil\" (WP048, WP093, WP087, WP060, WP056, WP066, WP064, WP072, WP078, WP285, WP280, WP274, WP276, WP270, WP216, WP306, WP297, WP291, WP295, WP204, WP160, WP164, WP162, WP212, WP170, WP196, WP180, WP188, WP140, WP126).\n",
        "\n",
        "- Os arquivos VCF do projeto foram convertidos previamente da versão do genoma hg19 para hg38 utilizando o programa gatk LiftoverVcf com as posições hg19ToHg38.over.chain da UCSC, seguido de anotação pelo Ensembl-VEP (VEP annot).\n",
        "\n",
        "- Este repositório compreende todos os arquivos essenciais para a filtragem e análise das variantes relacionadas ao prognóstico da Mielofibrose. Aqui, encontram-se os dados anotados para análise, o script de filtragem e outros arquivos relevantes.\n",
        "\n",
        "\n",
        "- Os genes considerados para a filtragem foram obtidos do artigo fundador do GIPSS – Sistema de Prognóstico por Pontuação Inspirado em dados Genéticos (https://doi.org/10.1038/s41375-018-0107-z). São eles:\n",
        "\n",
        "  - CALR\n",
        "  - ASXL1\n",
        "  - SRSF2\n",
        "  - U2AF1"
      ]
    },
    {
      "cell_type": "markdown",
      "metadata": {
        "id": "fHH1jk0rKrb0"
      },
      "source": [
        "## 1. Preparação ambiente de trabalho\n",
        "\n",
        "\n",
        "\n"
      ]
    },
    {
      "cell_type": "code",
      "execution_count": null,
      "metadata": {
        "id": "L75WGIUQAa1m"
      },
      "outputs": [],
      "source": [
        "# Clonar github do projeto lmabrasil-hg48.git\n",
        "%%bash\n",
        "rm -rf lmabrasil-hg38\n",
        "git clone https://github.com/renatopuga/lmabrasil-hg38"
      ]
    },
    {
      "cell_type": "code",
      "execution_count": null,
      "metadata": {
        "id": "sUoh_CpV7SAH"
      },
      "outputs": [],
      "source": [
        "# Clonar github contendo amostras do projeto lmabrasil convertidos para hg38\n",
        "!git clone https://github.com/bioinfoamos01/projetolma.git"
      ]
    },
    {
      "cell_type": "code",
      "execution_count": null,
      "metadata": {
        "id": "Rckp-nMX7cHc"
      },
      "outputs": [],
      "source": [
        "# Remover arquivo README.md da pasta lma\n",
        "!rm /content/projetolma/README.md"
      ]
    },
    {
      "cell_type": "code",
      "execution_count": null,
      "metadata": {
        "id": "P4BOezJ2AHeD"
      },
      "outputs": [],
      "source": [
        "# Copiar os 30 arquivos da pasta projetolma(contendo amostras pós lift-over hg38) para a pasta /vep_output\n",
        "!cp /content/projetolma/* /content/lmabrasil-hg38/vep_output"
      ]
    },
    {
      "cell_type": "code",
      "execution_count": null,
      "metadata": {
        "id": "Zko2ES3zJHFQ"
      },
      "outputs": [],
      "source": [
        "# Criar uma lista.txt com 4 genes de impacto para prognóstico de mielofibrose\n",
        "!echo -e \"CALR\\nASXL1\\nSRSF2\\nU2AF1\\n\" > /content/lmabrasil-hg38/hpo/mielofibrose.txt"
      ]
    },
    {
      "cell_type": "markdown",
      "metadata": {
        "id": "FuF92mtzKwzB"
      },
      "source": [
        "## 2. Instalação das Ferramentas Necessárias"
      ]
    },
    {
      "cell_type": "markdown",
      "source": [
        "### a) Instalação do BCFtools com plugin split-vep\n",
        "O plugin permite extrair os campos de anotações estruturadas como INFO/CSQ criadas por bcftools/csq ou VEP (em nosso caso VEP).\n",
        "\n",
        "Mais informações: https://samtools.github.io/bcftools/howtos/plugin.split-vep.html"
      ],
      "metadata": {
        "id": "8x8vq-M3B6HE"
      }
    },
    {
      "cell_type": "code",
      "execution_count": null,
      "metadata": {
        "id": "YRafP0HDQI3q"
      },
      "outputs": [],
      "source": [
        "%%bash\n",
        "git clone --recurse-submodules https://github.com/samtools/htslib.git\n",
        "git clone https://github.com/samtools/bcftools.git\n",
        "cd bcftools\n",
        "make\n",
        "make install"
      ]
    },
    {
      "cell_type": "markdown",
      "metadata": {
        "id": "hBIBl0xvLt_D"
      },
      "source": [
        "### b) Instalação do uDocker\n",
        "\n",
        "Udocker é uma ferramenta essencial para executar containers Docker de forma simplificada em sistemas sem privilégios de root.\n",
        "\n",
        "Neste workflow, sempre que empregamos o comando Udocker, o fazemos com a opção docker --allow-root.\n",
        "\n",
        "A execução com privilégios de root é utilizada apenas temporariamente em nosso fluxo de trabalho pois o mesmo foi projetado para ser utilizado em um ambiente Google Colab; no entanto, essa prática não é recomendada.\n",
        "\n",
        "Mais informações: [https://indigo-dc.github.io/udocker/](https://indigo-dc.github.io/udocker/)\n"
      ]
    },
    {
      "cell_type": "code",
      "execution_count": null,
      "metadata": {
        "id": "ymnqB8Uca1vn"
      },
      "outputs": [],
      "source": [
        "%%bash\n",
        "# Fonte: https://gist.github.com/mwufi/6718b30761cd109f9aff04c5144eb885\n",
        "pip install udocker\n",
        "udocker --allow-root install"
      ]
    },
    {
      "cell_type": "markdown",
      "metadata": {
        "id": "Zotlwj4_MJ4l"
      },
      "source": [
        "### c) Download da imagem do ensembl-vep\n",
        "Ensembl VEP é um conjunto de ferramentas usado para prever os impactos de variantes. Neste fluxo de trabalho, empregaremos o comando de filtragem do VEP para selecionar as variantes de interesse.\n",
        "\n",
        "Devido à instalação do Udocker, é viável baixar a imagem do VEP utilizando o comando udocker --allow-root pull.\n",
        "\n",
        "Mais informações: https://grch37.ensembl.org/info/docs/tools/vep/index.html\n"
      ]
    },
    {
      "cell_type": "code",
      "execution_count": null,
      "metadata": {
        "id": "YoEPm3j2-x4L"
      },
      "outputs": [],
      "source": [
        "!udocker --allow-root pull ensemblorg/ensembl-vep"
      ]
    },
    {
      "cell_type": "markdown",
      "metadata": {
        "id": "ivMMnCnEMz9S"
      },
      "source": [
        "## 3. Filtragem"
      ]
    },
    {
      "cell_type": "code",
      "execution_count": null,
      "metadata": {
        "id": "V23tjUzPGJCY"
      },
      "outputs": [],
      "source": [
        "#Declarar lista com nome das 30 amostras do projeto lma brasil\n",
        "SAMPLES = [\"WP048\",\"WP093\",\"WP087\",\"WP060\",\"WP056\",\"WP066\",\"WP064\",\"WP072\",\"WP078\",\"WP285\",\"WP280\",\"WP274\",\"WP276\",\"WP270\",\"WP216\",\"WP306\",\"WP297\",\"WP291\",\"WP295\",\"WP204\",\"WP160\",\"WP164\",\"WP162\",\"WP212\",\"WP170\",\"WP196\",\"WP180\",\"WP188\",\"WP140\",\"WP126\"]"
      ]
    },
    {
      "cell_type": "code",
      "execution_count": null,
      "metadata": {
        "id": "p8i8WTPwxtV8"
      },
      "outputs": [],
      "source": [
        "#Loop para processar pipeline de filtragem de variantes em cada uma das 30 amostras da lista SAMPLES\n",
        "for i in SAMPLES:\n",
        "  SAMPLE = i\n",
        "  !echo {SAMPLE}\n",
        "  !sh lmabrasil-hg38/vep-gc.sh {SAMPLE} mielofibrose.txt"
      ]
    },
    {
      "cell_type": "markdown",
      "metadata": {
        "id": "3m-5BHEbQ775"
      },
      "source": [
        "## **4. Análise**\n",
        "\n",
        "Mais informações:  [https://pandas.pydata.org/](https://pandas.pydata.org/)"
      ]
    },
    {
      "cell_type": "markdown",
      "source": [
        "### a) Converter os outputs da filtragem em .csv"
      ],
      "metadata": {
        "id": "F0E9iOUsDe2s"
      }
    },
    {
      "cell_type": "code",
      "execution_count": null,
      "metadata": {
        "id": "p45QBQEJGltY"
      },
      "outputs": [],
      "source": [
        "\n",
        "import pandas as pd\n",
        "pd.set_option('display.max_columns', None)\n",
        "pd.set_option('display.max_colwidth', None)\n",
        "\n",
        "#Conversão -> output salvo na pasta /content/lmabrasil-hg38/csv_filtrados\n",
        "!mkdir /content/lmabrasil-hg38/csv_filtrados\n",
        "for i in SAMPLES:\n",
        "  df = pd.read_csv(f'/content/lmabrasil-hg38/vep_output/liftOver_{i}_hg19ToHg38.vep.filter.tsv',sep='\\t',index_col=False)\n",
        "  df.to_csv(f'/content/lmabrasil-hg38/csv_filtrados/{i}_filtrado.csv', index=False)"
      ]
    },
    {
      "cell_type": "markdown",
      "source": [
        "### b) Gerar uma tabela bruta com o resultado da filtragem"
      ],
      "metadata": {
        "id": "9WGAwCvOC9Li"
      }
    },
    {
      "cell_type": "code",
      "execution_count": null,
      "metadata": {
        "id": "m2Y0OJxAOAVM"
      },
      "outputs": [],
      "source": [
        "import glob\n",
        "import pandas as pd\n",
        "\n",
        "# Lista pasta com os 30 arquivos csv(s)\n",
        "csv_files = glob.glob('/content/lmabrasil-hg38/csv_filtrados/*.{}'.format('csv'))\n",
        "\n",
        "#Une o resultado dos 30 arquivos csv(s) numa única tabela\n",
        "df_concat = pd.concat([pd.read_csv(i) for i in csv_files], ignore_index=True)\n",
        "\n",
        "#OUTPUT TABELA FINAL EM CSV\n",
        "!mkdir /content/lmabrasil-hg38/tabela_final\n",
        "df_concat.to_csv('/content/lmabrasil-hg38/tabela_final/tabela_final.csv', index=False)\n",
        "\n",
        "df_concat"
      ]
    },
    {
      "cell_type": "markdown",
      "metadata": {
        "id": "TmtvG8I6nEVK"
      },
      "source": [
        "## c) Gerar uma tabela com os scores de risco\n"
      ]
    },
    {
      "cell_type": "code",
      "source": [
        "import pandas as pd\n",
        "pd.set_option('display.max_columns', None)\n",
        "pd.set_option('display.max_colwidth', None)\n",
        "\n",
        "df = pd.read_csv(\"/content/lmabrasil-hg38/tabela_final/tabela_final.csv\")\n",
        "#Extrai da tabela_final, em um csv resumido contendo informações das colunas \"TumorID\",\"HGVSc\",\"SYMBOL\", \"HGVSp\", \"CHROM\", \"EXON\"\n",
        "df1 = df[[\"TumorID\",\"SYMBOL\", \"HGVSc\",\"HGVSp\", \"CHROM\", \"EXON\"]]\n",
        "df1.to_csv('/content/tabela_resumo_.csv', index=False)\n",
        "\n",
        "#Converte a tabela resumida em uma lista\n",
        "lista = df1.values.tolist()\n",
        "S1 = []\n",
        "variantes = []\n",
        "var = []\n",
        "\n",
        "#SEPARANDO O NOME DAS AMOSTRAS NÃO ENCONTRADAS NO FILTRO DE VARIANTES, NA VARIÁVEL S1, QUE COMPUTARÁ TODOS COMO +1 DEVIDO A AUSÊNCIA DE CALR TIPO1 PROTETOR)\n",
        "for x in range(len(lista)):\n",
        "  var = lista[x][0]\n",
        "  variantes.append(var)\n",
        "\n",
        "for i in SAMPLES:\n",
        "  if i not in variantes:\n",
        "    S1.append(i)\n",
        "\n",
        "#dicionário para receber variantes, todos começam com pontuação +1, só são despontuados em -1 se for encontrado mutação tipo 1 em CALR\n",
        "#PONTUA TODAS AS AMOSTRAS DA LISTA DE VARIANTES CONFORME CRITÉRIOS DA GISSP + GENES IDH1, IDH2 E EZH2\n",
        "dicio = {}\n",
        "for i in range(len(lista)):\n",
        "  dicio[lista[i][0]] = 1\n",
        "\n",
        "\n",
        "for i in range(len(lista)):\n",
        "  if (\"CALR\" and \"NM_004343.4:c.1099_1150del\") in lista[i]: #mutação do tipo 1 em CARL\n",
        "    for k, v in dicio.items():\n",
        "      if lista[i][0] == k:\n",
        "        dicio[lista[i][0]] +=-1\n",
        "\n",
        "  if (\"SRSF2\" and \"1/3\") in lista[i]: #hostspot em exon 1 de SRSF2\n",
        "    for k, v in dicio.items():\n",
        "      if lista[i][0] == k:\n",
        "        dicio[lista[i][0]] +=1\n",
        "\n",
        "  if (\"ASXL1\" and \"12/13\") in lista[i]: #hotspot exon 12\n",
        "    for k, v in dicio.items():\n",
        "      if lista[i][0] == k:\n",
        "        dicio[lista[i][0]] +=1\n",
        "\n",
        "  if (\"U2AF1\" and \"NM_006758.3:c.470A>C\") in lista[i]: #hotspot mutação Q157 EM U2AF1\n",
        "    for k, v in dicio.items():\n",
        "      if lista[i][0] == k:\n",
        "        dicio[lista[i][0]] +=1\n",
        "\n",
        "for i in range(len(S1)):\n",
        "  dicio[S1[i]] = 1\n",
        "\n",
        "\n",
        "#Computando as pontuações usando um dicionário para armazenar as contas\n",
        "\n",
        "contagem = {}\n",
        "\n",
        "for i in dicio.values():\n",
        "  if i in contagem:\n",
        "    contagem[i] +=1\n",
        "  else:\n",
        "    contagem[i] =1\n",
        "\n",
        "#verificação se a contagem possui resultados entre 0 à 3 ( 0 baixo, 1 inter-1, 2 inter2, 3-alto)\n",
        "for i in range(4):\n",
        "  if i not in contagem:\n",
        "    contagem[i] = 0\n"
      ],
      "metadata": {
        "id": "o-FrluL58JXq"
      },
      "execution_count": null,
      "outputs": []
    },
    {
      "cell_type": "markdown",
      "source": [
        "### d) Gerar gráficos e tabelas com os resultados obtidos"
      ],
      "metadata": {
        "id": "EGdmlWSEEEiE"
      }
    },
    {
      "cell_type": "code",
      "source": [
        "import numpy as npimport\n",
        "import matplotlib.pyplot as plt\n",
        "\n",
        "#Prognóstico de Mielofibrose - variantes em genes de impacto no score\n",
        "labels = 'CALR', 'ASLX1', 'U2AF1', 'SRSF2'\n",
        "sections = [8, 5, 2, 2]\n",
        "\n",
        "plt.pie(sections, labels=labels, autopct = '%1.1f%%')\n",
        "\n",
        "plt.title('Frequência de variantes em genes de impacto para o prognóstico de mielofibrose (n=14)')\n",
        "plt.show()"
      ],
      "metadata": {
        "id": "1HRcy6ioJ6A9"
      },
      "execution_count": null,
      "outputs": []
    },
    {
      "cell_type": "markdown",
      "source": [
        "Na análise gráfica, dos 30 pacientes estudados, 14 apresentaram variantes nos genes-alvo selecionados para a avaliação prognóstica, conforme os critérios estabelecidos pelo GIPSS. Os 16 pacientes restantes, que não exibiram variantes, foram automaticamente atribuídos a uma pontuação de +1, uma vez que não possuíam a mutação protetora tipo 1 em CALR."
      ],
      "metadata": {
        "id": "nIVv_P_6EV48"
      }
    },
    {
      "cell_type": "code",
      "source": [
        "#Exibindo os dados usando um dataframe pandas\n",
        "\n",
        "import pandas as pd\n",
        "\n",
        "data = {\"TOTAL DE PACIENTES\": [contagem[0],contagem[1],contagem[2],contagem[3]],\n",
        "        \"SCORE\": [\"0\", \"1\", \"2\", \">=3\"],\n",
        "        \"RISCO\": [\"Baixo\", \"Intermediário 1\", \"Intermediário 2\", \"Alto\"],\n",
        "        \"SOBREVIDA EM 5 ANOS (%)\": [\"94,0%\", \"73,0%\", \"40,0%\", \"14,0%\"],\n",
        "        \"SOBREVIDA MÉDIA (ANOS)\": [\"26,4 anos\", \"10,3 anos\", \"4,6 anos\", \"2,6 anos\"]}\n",
        "\n",
        "dataf = pd.DataFrame(data)\n",
        "\n",
        "dataf.style.set_caption('ESTRATIFICADOR DE PROGNÓSTICO DE MIELOFIBROSE BASEADADO EM GIPSS (sem cariotipagem)')"
      ],
      "metadata": {
        "id": "j2cUxoEfsrIF"
      },
      "execution_count": null,
      "outputs": []
    },
    {
      "cell_type": "code",
      "source": [
        "\n",
        "criterios = {\"Penalidade\": [\"+1\", \"+1\", \"+1\", \"+1\"],\n",
        "        \"Achados\": [\"Ausência de deleção de 52pb em CALR\", \"Mutação em Exon 1 de SRSF2\", \"Mutação em Exon 12 de ASXL1\", \"Mutação Q157 em U2AF1\"]}\n",
        "criteriosf = pd.DataFrame(criterios)\n",
        "criteriosf.style.set_caption('CRITÉRIOS DE PONTUAÇÃO BASEADO EM GIPSS (adaptado)')"
      ],
      "metadata": {
        "id": "etieYQkDCIc6"
      },
      "execution_count": null,
      "outputs": []
    },
    {
      "cell_type": "code",
      "source": [
        "import numpy as npimport\n",
        "import matplotlib.pyplot as plt\n",
        "\n",
        "#Prognóstico de Mielofibrose - GIPSS adaptado\n",
        "labels = 'BAIXO', 'INTERMEDIÁRIO 1', 'INTERMEDIÁRIO-2', 'ALTO'\n",
        "sections = [6,21, 3, 0 ]\n",
        "\n",
        "plt.pie(sections, labels=labels, autopct = '%1.1f%%')\n",
        "\n",
        "plt.title('Frequência de prognóstico GIPSS* para Mielofibrose (n=30)')\n",
        "plt.show()"
      ],
      "metadata": {
        "id": "ejEmjITRIJLC"
      },
      "execution_count": null,
      "outputs": []
    },
    {
      "cell_type": "markdown",
      "source": [
        "Dos 30 pacientes analisados, todos receberam um escore de risco, variando de 0 a >= 3, após a filtragem de genes e variantes com impacto no prognóstico de mielofibrose (MF). Utilizamos o guideline do GIPSS para esta avaliação, porém sem considerar a avaliação do cariótipo."
      ],
      "metadata": {
        "id": "SUub_vBLGMh7"
      }
    },
    {
      "cell_type": "markdown",
      "source": [
        "## **5) Pesquisa adicional de genes driver**"
      ],
      "metadata": {
        "id": "PQFDdTVGFkmE"
      }
    },
    {
      "cell_type": "code",
      "source": [
        "#Cria uma lista.txt com 3 genes de DRIVERs marcadores de mielofibrose\n",
        "!echo -e \"CALR\\nJAK2\\nMPL\\n\" > /content/lmabrasil-hg38/hpo/mielofibrose_drivers.txt\n",
        "\n",
        "#loop para processar pipeline de filtragem de genes drivers da lista SAMPLES\n",
        "for i in SAMPLES:\n",
        "  SAMPLE = i\n",
        "  !echo {SAMPLE}\n",
        "  !sh lmabrasil-hg38/vep-gc.sh {SAMPLE} mielofibrose_drivers.txt\n",
        "\n",
        "\n",
        "import pandas as pd\n",
        "pd.set_option('display.max_columns', None)\n",
        "pd.set_option('display.max_colwidth', None)\n",
        "\n",
        "#converte as 30 amostras filtradas pelo vep-gc.sh em amostras .csv --> output salvo na pasta /content/lmabrasil-hg38/csv_filtrados_driver\n",
        "!mkdir /content/lmabrasil-hg38/csv_filtrados_driver\n",
        "for i in SAMPLES:\n",
        "  df = pd.read_csv(f'/content/lmabrasil-hg38/vep_output/liftOver_{i}_hg19ToHg38.vep.filter.tsv',sep='\\t',index_col=False)\n",
        "  df.to_csv(f'/content/lmabrasil-hg38/csv_filtrados_driver/{i}_filtrado.csv', index=False)\n",
        "\n",
        "import glob\n",
        "import pandas as pd\n",
        "\n",
        "# Lista pasta com os 30 arquivos csv(s)\n",
        "csv_files = glob.glob('/content/lmabrasil-hg38/csv_filtrados_driver/*.{}'.format('csv'))\n",
        "\n",
        "#Une o resultado dos 30 arquivos csv(s) numa única tabela\n",
        "df_concat = pd.concat([pd.read_csv(i) for i in csv_files], ignore_index=True)\n",
        "\n",
        "#OUTPUT TABELA FINAL EM CSV\n",
        "!mkdir /content/lmabrasil-hg38/tabela_final_driver\n",
        "df_concat.to_csv('/content/lmabrasil-hg38/tabela_final_driver/tabela_final_driver.csv', index=False)\n",
        "\n",
        "df_concat"
      ],
      "metadata": {
        "id": "Y9-oZeCdgkr-"
      },
      "execution_count": null,
      "outputs": []
    },
    {
      "cell_type": "code",
      "source": [
        "import numpy as npimport\n",
        "import matplotlib.pyplot as plt\n",
        "\n",
        "#Quantidade de variantes em Genes Driver\n",
        "labels = 'JAK2 (V167F)', 'JAK2 (not V167F)', 'CALR', 'MPL','(triple negative)',\n",
        "sections = [13,1, 8, 1, 8]\n",
        "\n",
        "plt.pie(sections, labels=labels, autopct = '%1.1f%%')\n",
        "\n",
        "plt.title('Total de variantes encontradas no estudo em genes driver (n=30)')\n",
        "plt.show()"
      ],
      "metadata": {
        "id": "yWLcIjiXCODD"
      },
      "execution_count": null,
      "outputs": []
    },
    {
      "cell_type": "markdown",
      "source": [
        "Neste gráfico observa-se que, dos 30 pacientes avaliados, 22 apresentaram chamadas em genes condutores após a nossa filtragem, incluindo JAK2, CALR e MPL. Estes são reconhecidos como os principais marcadores de diagnóstico para mielofibrose."
      ],
      "metadata": {
        "id": "th79fU17FaEs"
      }
    }
  ],
  "metadata": {
    "colab": {
      "provenance": [],
      "include_colab_link": true
    },
    "kernelspec": {
      "display_name": "Python 3",
      "name": "python3"
    },
    "language_info": {
      "name": "python"
    }
  },
  "nbformat": 4,
  "nbformat_minor": 0
}